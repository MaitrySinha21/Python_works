{
  "nbformat": 4,
  "nbformat_minor": 0,
  "metadata": {
    "colab": {
      "name": "Assignment 2.ipynb",
      "provenance": [],
      "authorship_tag": "ABX9TyNi9cj8QCXcFXXsn8vZxSMP",
      "include_colab_link": true
    },
    "kernelspec": {
      "name": "python3",
      "display_name": "Python 3"
    }
  },
  "cells": [
    {
      "cell_type": "markdown",
      "metadata": {
        "id": "view-in-github",
        "colab_type": "text"
      },
      "source": [
        "<a href=\"https://colab.research.google.com/github/Maitry-star/ineuron-python-Assignments/blob/master/Assignment_2.ipynb\" target=\"_parent\"><img src=\"https://colab.research.google.com/assets/colab-badge.svg\" alt=\"Open In Colab\"/></a>"
      ]
    },
    {
      "cell_type": "markdown",
      "metadata": {
        "id": "oluCZBK1r7RJ"
      },
      "source": [
        "1. Write a program which accepts a sequence of comma-separated numbers from console and generate a list. \n"
      ]
    },
    {
      "cell_type": "code",
      "metadata": {
        "id": "vYOYEqRGr_Lx",
        "colab": {
          "base_uri": "https://localhost:8080/",
          "height": 151
        },
        "outputId": "08412037-b938-4155-e87b-39e1d8622e60"
      },
      "source": [
        "l=[]\n",
        "n = int(input(\"Enter how many no you want to put:\"))\n",
        "print(\"Enter\",n, \"element :\")\n",
        "for i in range(0,n):\n",
        "    i= eval(input())\n",
        "    l.append(i)\n",
        "l"
      ],
      "execution_count": null,
      "outputs": [
        {
          "output_type": "stream",
          "text": [
            "Enter how many no you want to put:5\n",
            "Enter 5 element :\n",
            "45\n",
            "42.2\n",
            "81.2\n",
            "78.5\n",
            "21\n"
          ],
          "name": "stdout"
        },
        {
          "output_type": "execute_result",
          "data": {
            "text/plain": [
              "[45, 42.2, 81.2, 78.5, 21]"
            ]
          },
          "metadata": {
            "tags": []
          },
          "execution_count": 1
        }
      ]
    },
    {
      "cell_type": "markdown",
      "metadata": {
        "id": "Qpul0ds2sLCp"
      },
      "source": [
        "1. Create the below pattern using nested for loop in Python. "
      ]
    },
    {
      "cell_type": "code",
      "metadata": {
        "id": "ctdqeuJ-sOcB",
        "colab": {
          "base_uri": "https://localhost:8080/",
          "height": 185
        },
        "outputId": "f107fe03-268d-402b-8838-a32ebbaf0678"
      },
      "source": [
        "l = []\n",
        "n = int(input())\n",
        "for i in range(1,n*2):\n",
        "    if i<=n:\n",
        "        l.append(i)\n",
        "    else:\n",
        "        l.append(n*2-i)\n",
        "    for j in l:\n",
        "        pass\n",
        "    print('*'*j)"
      ],
      "execution_count": null,
      "outputs": [
        {
          "output_type": "stream",
          "text": [
            "5\n",
            "*\n",
            "**\n",
            "***\n",
            "****\n",
            "*****\n",
            "****\n",
            "***\n",
            "**\n",
            "*\n"
          ],
          "name": "stdout"
        }
      ]
    },
    {
      "cell_type": "markdown",
      "metadata": {
        "id": "_azhW1a9sXp6"
      },
      "source": [
        "2. Write a Python program to reverse a word after accepting the input from the user. \n"
      ]
    },
    {
      "cell_type": "code",
      "metadata": {
        "id": "zxrThWkssZWn",
        "colab": {
          "base_uri": "https://localhost:8080/",
          "height": 50
        },
        "outputId": "4510e828-4b78-406e-bbe7-9736bc6e0025"
      },
      "source": [
        "name = input(\"Enter a word:\")\n",
        "f = name[::-1]\n",
        "print(f)"
      ],
      "execution_count": null,
      "outputs": [
        {
          "output_type": "stream",
          "text": [
            "Enter a word:ineuron\n",
            "norueni\n"
          ],
          "name": "stdout"
        }
      ]
    }
  ]
}
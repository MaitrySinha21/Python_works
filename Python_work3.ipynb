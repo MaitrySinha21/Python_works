{
  "nbformat": 4,
  "nbformat_minor": 0,
  "metadata": {
    "colab": {
      "name": "Assignment 3.ipynb",
      "provenance": [],
      "authorship_tag": "ABX9TyPgo7QAni1VEsckwItvR4U6",
      "include_colab_link": true
    },
    "kernelspec": {
      "name": "python3",
      "display_name": "Python 3"
    }
  },
  "cells": [
    {
      "cell_type": "markdown",
      "metadata": {
        "id": "view-in-github",
        "colab_type": "text"
      },
      "source": [
        "<a href=\"https://colab.research.google.com/github/Maitry-star/ineuron-python-Assignments/blob/master/Assignment_3.ipynb\" target=\"_parent\"><img src=\"https://colab.research.google.com/assets/colab-badge.svg\" alt=\"Open In Colab\"/></a>"
      ]
    },
    {
      "cell_type": "markdown",
      "metadata": {
        "id": "hXjnlU9LsvzT"
      },
      "source": [
        "1.1 Write a Python Program to implement your own myreduce() function which works exactly like Python's built-in function reduce() "
      ]
    },
    {
      "cell_type": "code",
      "metadata": {
        "id": "vHwuVV_qsynh"
      },
      "source": [
        "l=[5,9,3,6,7,56,65]\n",
        "def add(a):\n",
        "    s = 0\n",
        "    for i in a:\n",
        "        s = s+i\n",
        "    return s\n",
        "def myreduce(add,a):\n",
        "    for i in a:\n",
        "        return add(a)  "
      ],
      "execution_count": null,
      "outputs": []
    },
    {
      "cell_type": "code",
      "metadata": {
        "id": "DD61h18os3pJ",
        "colab": {
          "base_uri": "https://localhost:8080/",
          "height": 34
        },
        "outputId": "f17d812a-48f3-4d80-ea41-ffc53280e031"
      },
      "source": [
        "myreduce(add,l)"
      ],
      "execution_count": null,
      "outputs": [
        {
          "output_type": "execute_result",
          "data": {
            "text/plain": [
              "151"
            ]
          },
          "metadata": {
            "tags": []
          },
          "execution_count": 2
        }
      ]
    },
    {
      "cell_type": "markdown",
      "metadata": {
        "id": "StWA1mBJs7s6"
      },
      "source": [
        "1.2 Write a Python program to implement your own myfilter() function which works exactly like Python's built-in function filter()"
      ]
    },
    {
      "cell_type": "code",
      "metadata": {
        "id": "UEgIbf_LtBJj"
      },
      "source": [
        "m=[1,2,3,4,5,6,7,8,10,12,55,66,78,89,87,80]\n",
        "\n",
        "def even(m):\n",
        "    if m%2==0:\n",
        "        return True\n",
        "\n",
        "def myfilter(func,lst):\n",
        "    for i in lst:\n",
        "        if func(i)==True:\n",
        "            yield i"
      ],
      "execution_count": null,
      "outputs": []
    },
    {
      "cell_type": "code",
      "metadata": {
        "id": "XTPLZDuytKVB",
        "colab": {
          "base_uri": "https://localhost:8080/",
          "height": 34
        },
        "outputId": "b1ac8714-078e-4333-81e4-2518e810ec3b"
      },
      "source": [
        "list(myfilter(even,m))"
      ],
      "execution_count": null,
      "outputs": [
        {
          "output_type": "execute_result",
          "data": {
            "text/plain": [
              "[2, 4, 6, 8, 10, 12, 66, 78, 80]"
            ]
          },
          "metadata": {
            "tags": []
          },
          "execution_count": 4
        }
      ]
    },
    {
      "cell_type": "markdown",
      "metadata": {
        "id": "weAy24kjtMHa"
      },
      "source": [
        "2. Implement List comprehensions to produce the following lists. \n",
        "Write List comprehensions to produce the following Lists \n",
        "\n",
        "\n",
        "['A', 'C', 'A', 'D', 'G', 'I', ’L’, ‘ D’] \n",
        "['x', 'xx', 'xxx', 'xxxx', 'y', 'yy', 'yyy', 'yyyy', 'z', 'zz', 'zzz', 'zzzz']\n",
        "['x', 'y', 'z', 'xx', 'yy', 'zz', 'xx', 'yy', 'zz', 'xxxx', 'yyyy', 'zzzz']\n",
        "[[2], [3], [4], [3], [4], [5], [4], [5], [6]] \n",
        "[[2, 3, 4, 5], [3, 4, 5, 6], [4, 5, 6, 7], [5, 6, 7, 8]] \n",
        "[(1, 1), (2, 1), (3, 1), (1, 2), (2, 2), (3, 2), (1, 3), (2, 3), (3, 3)] "
      ]
    },
    {
      "cell_type": "code",
      "metadata": {
        "id": "cd_obiRwtS-5",
        "colab": {
          "base_uri": "https://localhost:8080/",
          "height": 34
        },
        "outputId": "554a76a6-8d1e-455d-f467-df157c06c99e"
      },
      "source": [
        "( [ i for i in 'ACADGILD'] )"
      ],
      "execution_count": null,
      "outputs": [
        {
          "output_type": "execute_result",
          "data": {
            "text/plain": [
              "['A', 'C', 'A', 'D', 'G', 'I', 'L', 'D']"
            ]
          },
          "metadata": {
            "tags": []
          },
          "execution_count": 5
        }
      ]
    },
    {
      "cell_type": "code",
      "metadata": {
        "id": "bF4U-9IttW5V",
        "colab": {
          "base_uri": "https://localhost:8080/",
          "height": 34
        },
        "outputId": "2a487122-235b-4256-faf5-9b27bd93a4e2"
      },
      "source": [
        "( [i*j for i in 'xyz' for j in range(1,5)] )"
      ],
      "execution_count": null,
      "outputs": [
        {
          "output_type": "execute_result",
          "data": {
            "text/plain": [
              "['x', 'xx', 'xxx', 'xxxx', 'y', 'yy', 'yyy', 'yyyy', 'z', 'zz', 'zzz', 'zzzz']"
            ]
          },
          "metadata": {
            "tags": []
          },
          "execution_count": 6
        }
      ]
    },
    {
      "cell_type": "code",
      "metadata": {
        "id": "md8dqvBitXEf",
        "colab": {
          "base_uri": "https://localhost:8080/",
          "height": 34
        },
        "outputId": "eeaa7824-4e64-42b6-c5fa-e3720f9d0296"
      },
      "source": [
        "( [i*j*k for i in range(1,3) for j in range(1,3) for k in 'xyz'] )"
      ],
      "execution_count": null,
      "outputs": [
        {
          "output_type": "execute_result",
          "data": {
            "text/plain": [
              "['x', 'y', 'z', 'xx', 'yy', 'zz', 'xx', 'yy', 'zz', 'xxxx', 'yyyy', 'zzzz']"
            ]
          },
          "metadata": {
            "tags": []
          },
          "execution_count": 7
        }
      ]
    },
    {
      "cell_type": "code",
      "metadata": {
        "id": "HlpxG6_BtXMO",
        "colab": {
          "base_uri": "https://localhost:8080/",
          "height": 34
        },
        "outputId": "f17ba100-93bf-4ba5-8b5c-5b7a99184d49"
      },
      "source": [
        "[ [i+j] for i in range(3) for j in range(2,5) ]"
      ],
      "execution_count": null,
      "outputs": [
        {
          "output_type": "execute_result",
          "data": {
            "text/plain": [
              "[[2], [3], [4], [3], [4], [5], [4], [5], [6]]"
            ]
          },
          "metadata": {
            "tags": []
          },
          "execution_count": 8
        }
      ]
    },
    {
      "cell_type": "code",
      "metadata": {
        "id": "CruOEyEWtXUF",
        "colab": {
          "base_uri": "https://localhost:8080/",
          "height": 34
        },
        "outputId": "143df6fc-0350-4c4b-8050-7af5617005ba"
      },
      "source": [
        "[ [i+j for i in range(2,6)] for j in range(4) ]"
      ],
      "execution_count": null,
      "outputs": [
        {
          "output_type": "execute_result",
          "data": {
            "text/plain": [
              "[[2, 3, 4, 5], [3, 4, 5, 6], [4, 5, 6, 7], [5, 6, 7, 8]]"
            ]
          },
          "metadata": {
            "tags": []
          },
          "execution_count": 9
        }
      ]
    },
    {
      "cell_type": "code",
      "metadata": {
        "id": "u0ArRvvUtg7T",
        "colab": {
          "base_uri": "https://localhost:8080/",
          "height": 34
        },
        "outputId": "7e46c067-93c0-4666-d383-68a6136e77c2"
      },
      "source": [
        "[ (j,i) for i in [1,2,3] for j in range(1,4) ]"
      ],
      "execution_count": null,
      "outputs": [
        {
          "output_type": "execute_result",
          "data": {
            "text/plain": [
              "[(1, 1), (2, 1), (3, 1), (1, 2), (2, 2), (3, 2), (1, 3), (2, 3), (3, 3)]"
            ]
          },
          "metadata": {
            "tags": []
          },
          "execution_count": 10
        }
      ]
    }
  ]
}
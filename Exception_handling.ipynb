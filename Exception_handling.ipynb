{
  "nbformat": 4,
  "nbformat_minor": 0,
  "metadata": {
    "colab": {
      "name": "Exception handling Assignment.ipynb",
      "provenance": [],
      "authorship_tag": "ABX9TyOVQcM1KA0E7XEhdUoj140v",
      "include_colab_link": true
    },
    "kernelspec": {
      "name": "python3",
      "display_name": "Python 3"
    }
  },
  "cells": [
    {
      "cell_type": "markdown",
      "metadata": {
        "id": "view-in-github",
        "colab_type": "text"
      },
      "source": [
        "<a href=\"https://colab.research.google.com/github/Maitry-star/ineuron-python-Assignments/blob/master/Exception_handling_Assignment.ipynb\" target=\"_parent\"><img src=\"https://colab.research.google.com/assets/colab-badge.svg\" alt=\"Open In Colab\"/></a>"
      ]
    },
    {
      "cell_type": "markdown",
      "metadata": {
        "id": "XLdr4Mp7vO5q"
      },
      "source": [
        ""
      ]
    },
    {
      "cell_type": "markdown",
      "metadata": {
        "id": "LSR-tCoOvQgI"
      },
      "source": [
        "1. Write a function to compute 5/0 and use try/except to catch the exceptions. "
      ]
    },
    {
      "cell_type": "code",
      "metadata": {
        "id": "hTQet9dDva7q"
      },
      "source": [
        "def Except():\n",
        "    try:\n",
        "        p=int(input(\"Enter a number to divided by 5: \"))\n",
        "        print(\"\\n\",5/p)\n",
        "    except :\n",
        "        print(\"\\nZero Divison Error\")"
      ],
      "execution_count": null,
      "outputs": []
    },
    {
      "cell_type": "code",
      "metadata": {
        "id": "SgdLF4gRviIR",
        "colab": {
          "base_uri": "https://localhost:8080/",
          "height": 67
        },
        "outputId": "d8599796-36f0-4967-f568-1e68ba424abe"
      },
      "source": [
        "Except()"
      ],
      "execution_count": null,
      "outputs": [
        {
          "output_type": "stream",
          "text": [
            "Enter a number to divided by 5: 0\n",
            "\n",
            "Zero Divison Error\n"
          ],
          "name": "stdout"
        }
      ]
    },
    {
      "cell_type": "markdown",
      "metadata": {
        "id": "e6A47NUlvnaB"
      },
      "source": [
        "2.\n",
        "Implement a Python program to generate all sentences where subject is in [\"Americans\",\n",
        "\"Indians\"] and verb is in [\"Play\", \"watch\"] and the object is in [\"Baseball\",\"cricket\"]."
      ]
    },
    {
      "cell_type": "code",
      "metadata": {
        "id": "WnuZXW5kvtLZ",
        "colab": {
          "base_uri": "https://localhost:8080/",
          "height": 151
        },
        "outputId": "b51bc767-69bc-49ce-c60a-00bb5b7805d1"
      },
      "source": [
        "subjects = [\"Americans\", \"Indians\"]\n",
        "verbs = [\"Play\", \"watch\"]\n",
        "objects = [\"Baseball\",\"cricket\"]\n",
        "for i in subjects:\n",
        "    for j in verbs:\n",
        "        for k in objects:\n",
        "            print(i,j,k)"
      ],
      "execution_count": null,
      "outputs": [
        {
          "output_type": "stream",
          "text": [
            "Americans Play Baseball\n",
            "Americans Play cricket\n",
            "Americans watch Baseball\n",
            "Americans watch cricket\n",
            "Indians Play Baseball\n",
            "Indians Play cricket\n",
            "Indians watch Baseball\n",
            "Indians watch cricket\n"
          ],
          "name": "stdout"
        }
      ]
    }
  ]
}
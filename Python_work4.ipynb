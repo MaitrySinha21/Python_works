{
  "nbformat": 4,
  "nbformat_minor": 0,
  "metadata": {
    "colab": {
      "name": "Assignment 4.ipynb",
      "provenance": [],
      "authorship_tag": "ABX9TyMgawGDDCX1US0hA7hx54EE",
      "include_colab_link": true
    },
    "kernelspec": {
      "name": "python3",
      "display_name": "Python 3"
    }
  },
  "cells": [
    {
      "cell_type": "markdown",
      "metadata": {
        "id": "view-in-github",
        "colab_type": "text"
      },
      "source": [
        "<a href=\"https://colab.research.google.com/github/Maitry-star/ineuron-python-Assignments/blob/master/Assignment_4.ipynb\" target=\"_parent\"><img src=\"https://colab.research.google.com/assets/colab-badge.svg\" alt=\"Open In Colab\"/></a>"
      ]
    },
    {
      "cell_type": "markdown",
      "metadata": {
        "id": "EmVhD2heuAYd"
      },
      "source": [
        "1.1 Write a Python Program(with class concepts) to find the area of the triangle using the below formula. \n",
        "area = (s*(s-a)*(s-b)*(s-c)) ** 0.5 \n",
        "Function to take the length of the sides of triangle from user should be defined in the parent class and function to calculate the area should be defined in subclass."
      ]
    },
    {
      "cell_type": "code",
      "metadata": {
        "id": "nsZj4SMSuDBx"
      },
      "source": [
        "class triangle:\n",
        "    def __init__(self,x=0,y=0,z=0):\n",
        "        self.x,self.y,self.z = x,y,z\n",
        "        \n",
        "    def area(self):\n",
        "        a,b,c = self.x,self.y,self.z\n",
        "        s = (a+b+c)/2.0\n",
        "        ar = (s*(s-a)*(s-b)*(s-c)) ** 0.5\n",
        "        print(\"Area of triangle is:\",round(ar,2),\"cm2\") "
      ],
      "execution_count": null,
      "outputs": []
    },
    {
      "cell_type": "code",
      "metadata": {
        "id": "iDSmhManuHos"
      },
      "source": [
        "t=triangle(14,15,16)"
      ],
      "execution_count": null,
      "outputs": []
    },
    {
      "cell_type": "code",
      "metadata": {
        "id": "yK6ivE7huHt_",
        "colab": {
          "base_uri": "https://localhost:8080/",
          "height": 34
        },
        "outputId": "db94f49f-1463-45ff-bd8c-b9ac0521d40a"
      },
      "source": [
        "t.area()"
      ],
      "execution_count": null,
      "outputs": [
        {
          "output_type": "stream",
          "text": [
            "Area of triangle is: 96.56 cm2\n"
          ],
          "name": "stdout"
        }
      ]
    },
    {
      "cell_type": "markdown",
      "metadata": {
        "id": "ieYZsBfguOOC"
      },
      "source": [
        "1.2 Write a function filter_long_words() that takes a list of words and an integer n and returns the list of words that are longer than n. "
      ]
    },
    {
      "cell_type": "code",
      "metadata": {
        "id": "r3t5nRYWuQ1x"
      },
      "source": [
        "m=['wasedfghbjk','aesrdtgvbhjnlknmnhgfdsxc','ddsazfxghuiljkdsfgchkhl','likujyhgtrfedszxcghjkl']\n",
        "\n",
        "def filter_long_words(lst,n):\n",
        "    lt = []\n",
        "    for i in lst:\n",
        "        if len(i) > n:\n",
        "            lt.append(i)\n",
        "    return lt "
      ],
      "execution_count": null,
      "outputs": []
    },
    {
      "cell_type": "code",
      "metadata": {
        "id": "iSdSj6xZuY6i",
        "colab": {
          "base_uri": "https://localhost:8080/",
          "height": 34
        },
        "outputId": "8a4efef3-a4b2-48d8-e0f9-634ce4da42b1"
      },
      "source": [
        "filter_long_words(m,23)"
      ],
      "execution_count": null,
      "outputs": [
        {
          "output_type": "execute_result",
          "data": {
            "text/plain": [
              "['aesrdtgvbhjnlknmnhgfdsxc']"
            ]
          },
          "metadata": {
            "tags": []
          },
          "execution_count": 5
        }
      ]
    },
    {
      "cell_type": "markdown",
      "metadata": {
        "id": "0r_ZZpfkuajR"
      },
      "source": [
        "2.1 Write a Python program using function concept that maps list of words into a list of integers representing the lengths of the corresponding words. "
      ]
    },
    {
      "cell_type": "code",
      "metadata": {
        "id": "utJirzyvueuS"
      },
      "source": [
        "lst =  ['ab','cde','erty']\n",
        "def maps(lt):\n",
        "    for i in lt:\n",
        "        yield len(i)"
      ],
      "execution_count": null,
      "outputs": []
    },
    {
      "cell_type": "code",
      "metadata": {
        "id": "mKt4IjDxuiJs",
        "colab": {
          "base_uri": "https://localhost:8080/",
          "height": 34
        },
        "outputId": "76c886f1-817c-41e1-90a2-0d37e7e1c762"
      },
      "source": [
        "list(maps(lst))"
      ],
      "execution_count": null,
      "outputs": [
        {
          "output_type": "execute_result",
          "data": {
            "text/plain": [
              "[2, 3, 4]"
            ]
          },
          "metadata": {
            "tags": []
          },
          "execution_count": 7
        }
      ]
    },
    {
      "cell_type": "markdown",
      "metadata": {
        "id": "dMbGc4pwuo9S"
      },
      "source": [
        "2.2 Write a Python function which takes a character (i.e. a string of length 1) and returns True if it is a vowel, False otherwise. "
      ]
    },
    {
      "cell_type": "code",
      "metadata": {
        "id": "HiPhLSLQuloi"
      },
      "source": [
        "def vowel():\n",
        "    vowel=['a','e','i','o','u']\n",
        "    a=input(\"Enter a character:\")\n",
        "    b=a.lower()\n",
        "    if b in vowel:\n",
        "        return True\n",
        "    else:\n",
        "        return False  "
      ],
      "execution_count": null,
      "outputs": []
    },
    {
      "cell_type": "code",
      "metadata": {
        "id": "UwR1_92Jult7",
        "colab": {
          "base_uri": "https://localhost:8080/",
          "height": 50
        },
        "outputId": "555836d6-c589-426f-ecd3-a4884fe058c7"
      },
      "source": [
        "vowel()"
      ],
      "execution_count": null,
      "outputs": [
        {
          "output_type": "stream",
          "text": [
            "Enter a character:A\n"
          ],
          "name": "stdout"
        },
        {
          "output_type": "execute_result",
          "data": {
            "text/plain": [
              "True"
            ]
          },
          "metadata": {
            "tags": []
          },
          "execution_count": 2
        }
      ]
    },
    {
      "cell_type": "code",
      "metadata": {
        "id": "4ACfBxOouR1P",
        "colab": {
          "base_uri": "https://localhost:8080/",
          "height": 50
        },
        "outputId": "57997327-03be-40e1-c637-6e5199ee3dfe"
      },
      "source": [
        "vowel()"
      ],
      "execution_count": null,
      "outputs": [
        {
          "output_type": "stream",
          "text": [
            "Enter a character:m\n"
          ],
          "name": "stdout"
        },
        {
          "output_type": "execute_result",
          "data": {
            "text/plain": [
              "False"
            ]
          },
          "metadata": {
            "tags": []
          },
          "execution_count": 4
        }
      ]
    }
  ]
}
{
  "nbformat": 4,
  "nbformat_minor": 0,
  "metadata": {
    "colab": {
      "name": "Numpy assignment.ipynb",
      "provenance": [],
      "collapsed_sections": [],
      "authorship_tag": "ABX9TyMxiZscKGlg1nVxXTjjOdbP",
      "include_colab_link": true
    },
    "kernelspec": {
      "name": "python3",
      "display_name": "Python 3"
    }
  },
  "cells": [
    {
      "cell_type": "markdown",
      "metadata": {
        "id": "view-in-github",
        "colab_type": "text"
      },
      "source": [
        "<a href=\"https://colab.research.google.com/github/Maitry-star/ineuron-python-Assignments/blob/master/Numpy_assignment.ipynb\" target=\"_parent\"><img src=\"https://colab.research.google.com/assets/colab-badge.svg\" alt=\"Open In Colab\"/></a>"
      ]
    },
    {
      "cell_type": "code",
      "metadata": {
        "id": "qvO8klOUw7u_"
      },
      "source": [
        "import numpy as np"
      ],
      "execution_count": null,
      "outputs": []
    },
    {
      "cell_type": "markdown",
      "metadata": {
        "id": "VfFvIqOvw-5z"
      },
      "source": [
        "1: Write a function so that the columns of the output matrix are powers of the input vector. The order of the powers is determined by the increasing boolean argument. Specifically, when increasing is False, the i-th output column is the input vector raised element-wise to the power of N - i - 1.\n",
        "\n",
        "HINT: Such a matrix with a geometric progression in each row is named for Alexandre- Theophile Vandermonde.\n",
        "\n"
      ]
    },
    {
      "cell_type": "code",
      "metadata": {
        "id": "MYQywz1vxDBg",
        "colab": {
          "base_uri": "https://localhost:8080/",
          "height": 101
        },
        "outputId": "15b26548-ebf6-4313-f83d-f9845700833f"
      },
      "source": [
        "a = np.array([1,2,3,4,5])\n",
        "np.vander(a,4,increasing=True)"
      ],
      "execution_count": null,
      "outputs": [
        {
          "output_type": "execute_result",
          "data": {
            "text/plain": [
              "array([[  1,   1,   1,   1],\n",
              "       [  1,   2,   4,   8],\n",
              "       [  1,   3,   9,  27],\n",
              "       [  1,   4,  16,  64],\n",
              "       [  1,   5,  25, 125]])"
            ]
          },
          "metadata": {
            "tags": []
          },
          "execution_count": 2
        }
      ]
    },
    {
      "cell_type": "code",
      "metadata": {
        "id": "X1KTAP2axDGe",
        "colab": {
          "base_uri": "https://localhost:8080/",
          "height": 101
        },
        "outputId": "f66add5b-0872-4707-a9e3-ada931564f40"
      },
      "source": [
        "np.vander(a,4,increasing=False)"
      ],
      "execution_count": null,
      "outputs": [
        {
          "output_type": "execute_result",
          "data": {
            "text/plain": [
              "array([[  1,   1,   1,   1],\n",
              "       [  8,   4,   2,   1],\n",
              "       [ 27,   9,   3,   1],\n",
              "       [ 64,  16,   4,   1],\n",
              "       [125,  25,   5,   1]])"
            ]
          },
          "metadata": {
            "tags": []
          },
          "execution_count": 3
        }
      ]
    },
    {
      "cell_type": "markdown",
      "metadata": {
        "id": "X_T9XJj2x2Cj"
      },
      "source": [
        "Problem Statement 2:\n",
        "Given a sequence of n values x1, x2, ..., xn and a window size k>0, the k-th \n",
        "\n",
        "moving average of\n",
        "\n",
        "the given sequence is defined as follows:\n",
        "\n",
        "The moving average sequence has n-k+1 elements as shown below.\n",
        "\n",
        "The moving averages with k=4 of a ten-value sequence (n=10) is shown below\n",
        "\n",
        "i 1 2 3 4 5 6 7 8 9 10\n",
        "\n",
        "===== == == == == == == == == == ==\n",
        "Input 10 20 30 40 50 60 70 80 90 100\n",
        "\n",
        "y1 25 = (10+20+30+40)/4\n",
        "\n",
        "y2 35 = (20+30+40+50)/4\n",
        "\n",
        "y3 45 = (30+40+50+60)/4\n",
        "\n",
        "y4 55 = (40+50+60+70)/4\n",
        "\n",
        "y5 65 = (50+60+70+80)/4\n",
        "\n",
        "y6 75 = (60+70+80+90)/4\n",
        "\n",
        "y7 85 = (70+80+90+100)/4\n",
        "\n",
        "Thus, the moving average sequence has n-k+1=10-4+1=7 values\n"
      ]
    },
    {
      "cell_type": "code",
      "metadata": {
        "id": "hlTdmVhaxDIZ"
      },
      "source": [
        "lst=[3, 5, 7, 2, 8, 10, 11, 65, 72, 81, 99, 100, 150]\n",
        "x = [ 10,20,30,40,50,60,70,80,90,100]"
      ],
      "execution_count": null,
      "outputs": []
    },
    {
      "cell_type": "code",
      "metadata": {
        "id": "KnAGX49oxDYb"
      },
      "source": [
        "def movingAverage(x,k):\n",
        "    x = np.array(x)\n",
        "    if k <= len(x):\n",
        "        for i in range(len(x)-k+1):\n",
        "            s = np.array(x)[i:k+i].sum()/k\n",
        "            print(\"y{0} = {1:.2f}\".format(i+1, s))\n",
        "    else:\n",
        "        print(f\"Enter, k <= {len(x)}\")    "
      ],
      "execution_count": null,
      "outputs": []
    },
    {
      "cell_type": "code",
      "metadata": {
        "id": "IZlI93YnyPll",
        "colab": {
          "base_uri": "https://localhost:8080/",
          "height": 34
        },
        "outputId": "4234eccc-bced-4be5-a755-6f7f28a461c5"
      },
      "source": [
        "movingAverage(lst,14)"
      ],
      "execution_count": null,
      "outputs": [
        {
          "output_type": "stream",
          "text": [
            "Enter, k <= 13\n"
          ],
          "name": "stdout"
        }
      ]
    },
    {
      "cell_type": "code",
      "metadata": {
        "id": "SiEmSSwryPjz",
        "colab": {
          "base_uri": "https://localhost:8080/",
          "height": 202
        },
        "outputId": "e3eb1e14-3022-4c7e-c542-3ada1906c7c1"
      },
      "source": [
        "movingAverage(lst,3)"
      ],
      "execution_count": null,
      "outputs": [
        {
          "output_type": "stream",
          "text": [
            "y1 = 5.00\n",
            "y2 = 4.67\n",
            "y3 = 5.67\n",
            "y4 = 6.67\n",
            "y5 = 9.67\n",
            "y6 = 28.67\n",
            "y7 = 49.33\n",
            "y8 = 72.67\n",
            "y9 = 84.00\n",
            "y10 = 93.33\n",
            "y11 = 116.33\n"
          ],
          "name": "stdout"
        }
      ]
    },
    {
      "cell_type": "markdown",
      "metadata": {
        "id": "R-CJWgW5yg1Y"
      },
      "source": [
        "# or with 'cumsum'"
      ]
    },
    {
      "cell_type": "code",
      "metadata": {
        "id": "4Tgp23y-xC_t"
      },
      "source": [
        "def mov_avg(lst,k):\n",
        "    lst = np.array(lst)\n",
        "    lst=lst.cumsum()\n",
        "    y=[]\n",
        "    for i in range(len(lst)-k+1):\n",
        "        if i==0:\n",
        "            avg = lst[k-1]/k\n",
        "        else:\n",
        "            l=lst[i+k-1]-lst[i-1]\n",
        "            avg = l/k\n",
        "            y.append(avg)\n",
        "        print(\"y{0} = {1:.2f}\".format(i+1, avg))        "
      ],
      "execution_count": null,
      "outputs": []
    },
    {
      "cell_type": "code",
      "metadata": {
        "id": "TF93ljoyyr-g",
        "colab": {
          "base_uri": "https://localhost:8080/",
          "height": 202
        },
        "outputId": "f44e267e-ba3a-437a-9edc-cf858fefc240"
      },
      "source": [
        "mov_avg(lst,3)"
      ],
      "execution_count": null,
      "outputs": [
        {
          "output_type": "stream",
          "text": [
            "y1 = 5.00\n",
            "y2 = 4.67\n",
            "y3 = 5.67\n",
            "y4 = 6.67\n",
            "y5 = 9.67\n",
            "y6 = 28.67\n",
            "y7 = 49.33\n",
            "y8 = 72.67\n",
            "y9 = 84.00\n",
            "y10 = 93.33\n",
            "y11 = 116.33\n"
          ],
          "name": "stdout"
        }
      ]
    },
    {
      "cell_type": "code",
      "metadata": {
        "id": "3txj-K81ysRp",
        "colab": {
          "base_uri": "https://localhost:8080/",
          "height": 134
        },
        "outputId": "1158912e-ddea-44aa-e6db-dbb6d66d6a2b"
      },
      "source": [
        "mov_avg(x,4)"
      ],
      "execution_count": null,
      "outputs": [
        {
          "output_type": "stream",
          "text": [
            "y1 = 25.00\n",
            "y2 = 35.00\n",
            "y3 = 45.00\n",
            "y4 = 55.00\n",
            "y5 = 65.00\n",
            "y6 = 75.00\n",
            "y7 = 85.00\n"
          ],
          "name": "stdout"
        }
      ]
    }
  ]
}
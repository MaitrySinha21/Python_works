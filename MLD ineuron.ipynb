{
  "nbformat": 4,
  "nbformat_minor": 0,
  "metadata": {
    "kernelspec": {
      "display_name": "Python 3",
      "language": "python",
      "name": "python3"
    },
    "language_info": {
      "codemirror_mode": {
        "name": "ipython",
        "version": 3
      },
      "file_extension": ".py",
      "mimetype": "text/x-python",
      "name": "python",
      "nbconvert_exporter": "python",
      "pygments_lexer": "ipython3",
      "version": "3.7.6"
    },
    "colab": {
      "name": "MLD ineuron.ipynb",
      "provenance": []
    }
  },
  "cells": [
    {
      "cell_type": "markdown",
      "metadata": {
        "id": "TvI_ndjA3Swq"
      },
      "source": [
        "1. Write a program which will find all such numbers which are \n",
        "divisible by 7 but are not a multiple of 5,\n",
        "between 2000 and 3200 (both included). The numbers obtained should be\n",
        "printed in a comma-separated sequence on a single line. "
      ]
    },
    {
      "cell_type": "code",
      "metadata": {
        "id": "4d5fes7J3Swx",
        "outputId": "484df397-e8e1-4d31-815d-09c98f3030ba"
      },
      "source": [
        "l=[]\n",
        "for i in range(2000,3201):\n",
        "    if(i%7==0 and i%5!=0):\n",
        "        l.append(i)\n",
        "    else:\n",
        "        pass\n",
        "print(l,end='')               "
      ],
      "execution_count": null,
      "outputs": [
        {
          "output_type": "stream",
          "text": [
            "[2002, 2009, 2016, 2023, 2037, 2044, 2051, 2058, 2072, 2079, 2086, 2093, 2107, 2114, 2121, 2128, 2142, 2149, 2156, 2163, 2177, 2184, 2191, 2198, 2212, 2219, 2226, 2233, 2247, 2254, 2261, 2268, 2282, 2289, 2296, 2303, 2317, 2324, 2331, 2338, 2352, 2359, 2366, 2373, 2387, 2394, 2401, 2408, 2422, 2429, 2436, 2443, 2457, 2464, 2471, 2478, 2492, 2499, 2506, 2513, 2527, 2534, 2541, 2548, 2562, 2569, 2576, 2583, 2597, 2604, 2611, 2618, 2632, 2639, 2646, 2653, 2667, 2674, 2681, 2688, 2702, 2709, 2716, 2723, 2737, 2744, 2751, 2758, 2772, 2779, 2786, 2793, 2807, 2814, 2821, 2828, 2842, 2849, 2856, 2863, 2877, 2884, 2891, 2898, 2912, 2919, 2926, 2933, 2947, 2954, 2961, 2968, 2982, 2989, 2996, 3003, 3017, 3024, 3031, 3038, 3052, 3059, 3066, 3073, 3087, 3094, 3101, 3108, 3122, 3129, 3136, 3143, 3157, 3164, 3171, 3178, 3192, 3199]"
          ],
          "name": "stdout"
        }
      ]
    },
    {
      "cell_type": "markdown",
      "metadata": {
        "id": "YFgLgMEk3Sw1"
      },
      "source": [
        "2.Write a Python program to accept the \n",
        "user's first and last name and then getting them\n",
        "printed in the the reverse order with a space between first name and last name. "
      ]
    },
    {
      "cell_type": "code",
      "metadata": {
        "id": "FIvk_x1k3Sw2",
        "outputId": "1e13b1eb-697e-4e3b-9c83-a4032cd558d6"
      },
      "source": [
        "name=input(\"Enter your first name:\")\n",
        "surname=input(\"Enter your last name:\")\n",
        "l=[name,surname]\n",
        "l1=l[::-1] \n",
        "print(' '.join(l1))\n",
        "    \n"
      ],
      "execution_count": null,
      "outputs": [
        {
          "output_type": "stream",
          "text": [
            "Enter your first name:Maitry\n",
            "Enter your last name:Sinha\n",
            "Sinha Maitry\n"
          ],
          "name": "stdout"
        }
      ]
    },
    {
      "cell_type": "markdown",
      "metadata": {
        "id": "cFerFvPY3Sw4"
      },
      "source": [
        "3.Write a Python program to find the volume of a sphere with diameter 12 cm. \n",
        "Formula: V=4/3 * π * r "
      ]
    },
    {
      "cell_type": "code",
      "metadata": {
        "id": "iVaAGJZq3SxR",
        "outputId": "a40f0597-b54d-4065-81d1-ef624512c5e8"
      },
      "source": [
        "pi = 22/7\n",
        "r = eval(input(\"Enter the radius of the sphere in cm:\"))\n",
        "v = (4/3)*pi*r**3\n",
        "print(\"The volume of the sphere is: \",round(v,2),\"cm3\")"
      ],
      "execution_count": null,
      "outputs": [
        {
          "output_type": "stream",
          "text": [
            "Enter the radius of the sphere in cm:22\n",
            "The volume of the sphere is:  44620.19 cm3\n"
          ],
          "name": "stdout"
        }
      ]
    }
  ]
}